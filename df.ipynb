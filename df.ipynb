{
 "cells": [
  {
   "cell_type": "code",
   "execution_count": 1,
   "metadata": {},
   "outputs": [],
   "source": [
    "import pandas as pd"
   ]
  },
  {
   "cell_type": "code",
   "execution_count": 3,
   "metadata": {},
   "outputs": [],
   "source": [
    "df = pd.read_csv('data_cp.csv')"
   ]
  },
  {
   "cell_type": "code",
   "execution_count": 6,
   "metadata": {},
   "outputs": [
    {
     "data": {
      "text/html": [
       "<div>\n",
       "<style scoped>\n",
       "    .dataframe tbody tr th:only-of-type {\n",
       "        vertical-align: middle;\n",
       "    }\n",
       "\n",
       "    .dataframe tbody tr th {\n",
       "        vertical-align: top;\n",
       "    }\n",
       "\n",
       "    .dataframe thead th {\n",
       "        text-align: right;\n",
       "    }\n",
       "</style>\n",
       "<table border=\"1\" class=\"dataframe\">\n",
       "  <thead>\n",
       "    <tr style=\"text-align: right;\">\n",
       "      <th></th>\n",
       "      <th>Category</th>\n",
       "      <th>Name</th>\n",
       "      <th>Date/Time</th>\n",
       "      <th>Length</th>\n",
       "      <th>Link</th>\n",
       "      <th>Location</th>\n",
       "      <th>Type</th>\n",
       "    </tr>\n",
       "  </thead>\n",
       "  <tbody>\n",
       "    <tr>\n",
       "      <th>0</th>\n",
       "      <td>Contest</td>\n",
       "      <td>IN4MALS Beginner Track-Preparatory [private, i...</td>\n",
       "      <td>October 22, 2021 19:30:00( IST )</td>\n",
       "      <td>1 days 00:00:00</td>\n",
       "      <td>https://lightoj.com/contest/in4prep</td>\n",
       "      <td>Everywhere, Worldwide</td>\n",
       "      <td>Digital Only</td>\n",
       "    </tr>\n",
       "    <tr>\n",
       "      <th>1</th>\n",
       "      <td>Contest</td>\n",
       "      <td>ICCS312 - PA2 [private, icpc, individual]</td>\n",
       "      <td>October 19, 2021 17:00:00( IST )</td>\n",
       "      <td>6 days 23:59:00</td>\n",
       "      <td>https://lightoj.com/contest/iccs312-pa2</td>\n",
       "      <td>Everywhere, Worldwide</td>\n",
       "      <td>Digital Only</td>\n",
       "    </tr>\n",
       "    <tr>\n",
       "      <th>2</th>\n",
       "      <td>Contest</td>\n",
       "      <td>Qualification of Belarus and Baltics Regional ...</td>\n",
       "      <td>October 23, 2021 13:00:00( IST )</td>\n",
       "      <td>0 days 17:55:00</td>\n",
       "      <td>https://acm.bsu.by/contests/160/standings/</td>\n",
       "      <td>Everywhere, Worldwide</td>\n",
       "      <td>Digital Only</td>\n",
       "    </tr>\n",
       "    <tr>\n",
       "      <th>3</th>\n",
       "      <td>Contest</td>\n",
       "      <td>M*CTF 2021 Quals</td>\n",
       "      <td>October 23, 2021 11:00:00( IST )</td>\n",
       "      <td>1 days 00:00:00</td>\n",
       "      <td>https://ctftime.org/event/1439/</td>\n",
       "      <td>Everywhere, Worldwide</td>\n",
       "      <td>Digital Only</td>\n",
       "    </tr>\n",
       "    <tr>\n",
       "      <th>4</th>\n",
       "      <td>Contest</td>\n",
       "      <td>Collegiate SECTF</td>\n",
       "      <td>October 22, 2021 12:00:00( IST )</td>\n",
       "      <td>2 days 02:16:10</td>\n",
       "      <td>https://ctftime.org/event/1437/</td>\n",
       "      <td>Everywhere, Worldwide</td>\n",
       "      <td>Digital Only</td>\n",
       "    </tr>\n",
       "  </tbody>\n",
       "</table>\n",
       "</div>"
      ],
      "text/plain": [
       "  Category                                               Name  \\\n",
       "0  Contest  IN4MALS Beginner Track-Preparatory [private, i...   \n",
       "1  Contest          ICCS312 - PA2 [private, icpc, individual]   \n",
       "2  Contest  Qualification of Belarus and Baltics Regional ...   \n",
       "3  Contest                                   M*CTF 2021 Quals   \n",
       "4  Contest                                   Collegiate SECTF   \n",
       "\n",
       "                          Date/Time           Length  \\\n",
       "0  October 22, 2021 19:30:00( IST )  1 days 00:00:00   \n",
       "1  October 19, 2021 17:00:00( IST )  6 days 23:59:00   \n",
       "2  October 23, 2021 13:00:00( IST )  0 days 17:55:00   \n",
       "3  October 23, 2021 11:00:00( IST )  1 days 00:00:00   \n",
       "4  October 22, 2021 12:00:00( IST )  2 days 02:16:10   \n",
       "\n",
       "                                         Link               Location  \\\n",
       "0         https://lightoj.com/contest/in4prep  Everywhere, Worldwide   \n",
       "1     https://lightoj.com/contest/iccs312-pa2  Everywhere, Worldwide   \n",
       "2  https://acm.bsu.by/contests/160/standings/  Everywhere, Worldwide   \n",
       "3             https://ctftime.org/event/1439/  Everywhere, Worldwide   \n",
       "4             https://ctftime.org/event/1437/  Everywhere, Worldwide   \n",
       "\n",
       "           Type  \n",
       "0  Digital Only  \n",
       "1  Digital Only  \n",
       "2  Digital Only  \n",
       "3  Digital Only  \n",
       "4  Digital Only  "
      ]
     },
     "execution_count": 6,
     "metadata": {},
     "output_type": "execute_result"
    }
   ],
   "source": [
    "df[:5]"
   ]
  },
  {
   "cell_type": "code",
   "execution_count": 15,
   "metadata": {},
   "outputs": [
    {
     "data": {
      "text/plain": [
       "'October 23, 2021 11:00:00( IST )'"
      ]
     },
     "execution_count": 15,
     "metadata": {},
     "output_type": "execute_result"
    }
   ],
   "source": [
    "df.iloc[3, :]['Date/Time']"
   ]
  }
 ],
 "metadata": {
  "interpreter": {
   "hash": "e2cc4dca9d1bf8a2cacb486f34126d3f63f1c8e82f14ac2e50c42633beb1eaa4"
  },
  "kernelspec": {
   "display_name": "Python 3.8.8 64-bit ('base': conda)",
   "name": "python3"
  },
  "language_info": {
   "codemirror_mode": {
    "name": "ipython",
    "version": 3
   },
   "file_extension": ".py",
   "mimetype": "text/x-python",
   "name": "python",
   "nbconvert_exporter": "python",
   "pygments_lexer": "ipython3",
   "version": "3.8.8"
  },
  "orig_nbformat": 4
 },
 "nbformat": 4,
 "nbformat_minor": 2
}
